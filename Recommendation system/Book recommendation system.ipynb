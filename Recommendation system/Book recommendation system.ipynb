{
 "cells": [
  {
   "cell_type": "markdown",
   "id": "fc31877e",
   "metadata": {},
   "source": [
    "## Importing libraries"
   ]
  },
  {
   "cell_type": "code",
   "execution_count": 1,
   "id": "5c5222e0",
   "metadata": {},
   "outputs": [],
   "source": [
    "import os\n",
    "import numpy as np\n",
    "import pandas as pd\n",
    "import matplotlib.pyplot as plt\n",
    "import seaborn as sns\n",
    "%matplotlib inline\n",
    "sns.set()\n",
    "import warnings\n",
    "warnings.filterwarnings('ignore')"
   ]
  },
  {
   "cell_type": "markdown",
   "id": "fe248da1",
   "metadata": {},
   "source": [
    "## Importing the datasets"
   ]
  },
  {
   "cell_type": "code",
   "execution_count": 2,
   "id": "4b5976e5",
   "metadata": {},
   "outputs": [],
   "source": [
    "books_df=pd.read_csv('data.csv')"
   ]
  },
  {
   "cell_type": "code",
   "execution_count": 3,
   "id": "2532d604",
   "metadata": {},
   "outputs": [],
   "source": [
    "bk_df=books_df.copy()"
   ]
  },
  {
   "cell_type": "code",
   "execution_count": 4,
   "id": "d0291031",
   "metadata": {},
   "outputs": [
    {
     "data": {
      "text/html": [
       "<div>\n",
       "<style scoped>\n",
       "    .dataframe tbody tr th:only-of-type {\n",
       "        vertical-align: middle;\n",
       "    }\n",
       "\n",
       "    .dataframe tbody tr th {\n",
       "        vertical-align: top;\n",
       "    }\n",
       "\n",
       "    .dataframe thead th {\n",
       "        text-align: right;\n",
       "    }\n",
       "</style>\n",
       "<table border=\"1\" class=\"dataframe\">\n",
       "  <thead>\n",
       "    <tr style=\"text-align: right;\">\n",
       "      <th></th>\n",
       "      <th>isbn13</th>\n",
       "      <th>isbn10</th>\n",
       "      <th>title</th>\n",
       "      <th>subtitle</th>\n",
       "      <th>authors</th>\n",
       "      <th>categories</th>\n",
       "      <th>thumbnail</th>\n",
       "      <th>description</th>\n",
       "      <th>published_year</th>\n",
       "      <th>average_rating</th>\n",
       "      <th>num_pages</th>\n",
       "      <th>ratings_count</th>\n",
       "    </tr>\n",
       "  </thead>\n",
       "  <tbody>\n",
       "    <tr>\n",
       "      <th>0</th>\n",
       "      <td>9780002005883</td>\n",
       "      <td>0002005883</td>\n",
       "      <td>Gilead</td>\n",
       "      <td>NaN</td>\n",
       "      <td>Marilynne Robinson</td>\n",
       "      <td>Fiction</td>\n",
       "      <td>http://books.google.com/books/content?id=KQZCP...</td>\n",
       "      <td>A NOVEL THAT READERS and critics have been eag...</td>\n",
       "      <td>2004.0</td>\n",
       "      <td>3.85</td>\n",
       "      <td>247.0</td>\n",
       "      <td>361.0</td>\n",
       "    </tr>\n",
       "    <tr>\n",
       "      <th>1</th>\n",
       "      <td>9780002261982</td>\n",
       "      <td>0002261987</td>\n",
       "      <td>Spider's Web</td>\n",
       "      <td>A Novel</td>\n",
       "      <td>Charles Osborne;Agatha Christie</td>\n",
       "      <td>Detective and mystery stories</td>\n",
       "      <td>http://books.google.com/books/content?id=gA5GP...</td>\n",
       "      <td>A new 'Christie for Christmas' -- a full-lengt...</td>\n",
       "      <td>2000.0</td>\n",
       "      <td>3.83</td>\n",
       "      <td>241.0</td>\n",
       "      <td>5164.0</td>\n",
       "    </tr>\n",
       "    <tr>\n",
       "      <th>2</th>\n",
       "      <td>9780006163831</td>\n",
       "      <td>0006163831</td>\n",
       "      <td>The One Tree</td>\n",
       "      <td>NaN</td>\n",
       "      <td>Stephen R. Donaldson</td>\n",
       "      <td>American fiction</td>\n",
       "      <td>http://books.google.com/books/content?id=OmQaw...</td>\n",
       "      <td>Volume Two of Stephen Donaldson's acclaimed se...</td>\n",
       "      <td>1982.0</td>\n",
       "      <td>3.97</td>\n",
       "      <td>479.0</td>\n",
       "      <td>172.0</td>\n",
       "    </tr>\n",
       "    <tr>\n",
       "      <th>3</th>\n",
       "      <td>9780006178736</td>\n",
       "      <td>0006178731</td>\n",
       "      <td>Rage of angels</td>\n",
       "      <td>NaN</td>\n",
       "      <td>Sidney Sheldon</td>\n",
       "      <td>Fiction</td>\n",
       "      <td>http://books.google.com/books/content?id=FKo2T...</td>\n",
       "      <td>A memorable, mesmerizing heroine Jennifer -- b...</td>\n",
       "      <td>1993.0</td>\n",
       "      <td>3.93</td>\n",
       "      <td>512.0</td>\n",
       "      <td>29532.0</td>\n",
       "    </tr>\n",
       "    <tr>\n",
       "      <th>4</th>\n",
       "      <td>9780006280897</td>\n",
       "      <td>0006280897</td>\n",
       "      <td>The Four Loves</td>\n",
       "      <td>NaN</td>\n",
       "      <td>Clive Staples Lewis</td>\n",
       "      <td>Christian life</td>\n",
       "      <td>http://books.google.com/books/content?id=XhQ5X...</td>\n",
       "      <td>Lewis' work on the nature of love divides love...</td>\n",
       "      <td>2002.0</td>\n",
       "      <td>4.15</td>\n",
       "      <td>170.0</td>\n",
       "      <td>33684.0</td>\n",
       "    </tr>\n",
       "  </tbody>\n",
       "</table>\n",
       "</div>"
      ],
      "text/plain": [
       "          isbn13      isbn10           title subtitle  \\\n",
       "0  9780002005883  0002005883          Gilead      NaN   \n",
       "1  9780002261982  0002261987    Spider's Web  A Novel   \n",
       "2  9780006163831  0006163831    The One Tree      NaN   \n",
       "3  9780006178736  0006178731  Rage of angels      NaN   \n",
       "4  9780006280897  0006280897  The Four Loves      NaN   \n",
       "\n",
       "                           authors                     categories  \\\n",
       "0               Marilynne Robinson                        Fiction   \n",
       "1  Charles Osborne;Agatha Christie  Detective and mystery stories   \n",
       "2             Stephen R. Donaldson               American fiction   \n",
       "3                   Sidney Sheldon                        Fiction   \n",
       "4              Clive Staples Lewis                 Christian life   \n",
       "\n",
       "                                           thumbnail  \\\n",
       "0  http://books.google.com/books/content?id=KQZCP...   \n",
       "1  http://books.google.com/books/content?id=gA5GP...   \n",
       "2  http://books.google.com/books/content?id=OmQaw...   \n",
       "3  http://books.google.com/books/content?id=FKo2T...   \n",
       "4  http://books.google.com/books/content?id=XhQ5X...   \n",
       "\n",
       "                                         description  published_year  \\\n",
       "0  A NOVEL THAT READERS and critics have been eag...          2004.0   \n",
       "1  A new 'Christie for Christmas' -- a full-lengt...          2000.0   \n",
       "2  Volume Two of Stephen Donaldson's acclaimed se...          1982.0   \n",
       "3  A memorable, mesmerizing heroine Jennifer -- b...          1993.0   \n",
       "4  Lewis' work on the nature of love divides love...          2002.0   \n",
       "\n",
       "   average_rating  num_pages  ratings_count  \n",
       "0            3.85      247.0          361.0  \n",
       "1            3.83      241.0         5164.0  \n",
       "2            3.97      479.0          172.0  \n",
       "3            3.93      512.0        29532.0  \n",
       "4            4.15      170.0        33684.0  "
      ]
     },
     "execution_count": 4,
     "metadata": {},
     "output_type": "execute_result"
    }
   ],
   "source": [
    "bk_df.head()"
   ]
  },
  {
   "cell_type": "markdown",
   "id": "7c1f9aff",
   "metadata": {},
   "source": [
    "## Data preprocessing"
   ]
  },
  {
   "cell_type": "markdown",
   "id": "776e2fd6",
   "metadata": {},
   "source": [
    "#### Checking the shape of the dataset"
   ]
  },
  {
   "cell_type": "code",
   "execution_count": 5,
   "id": "eb34e253",
   "metadata": {},
   "outputs": [
    {
     "name": "stdout",
     "output_type": "stream",
     "text": [
      "Books dataset shape:  (6810, 12)\n"
     ]
    }
   ],
   "source": [
    "print('Books dataset shape: ',bk_df.shape)"
   ]
  },
  {
   "cell_type": "markdown",
   "id": "f2e8578e",
   "metadata": {},
   "source": [
    "#### Checking the dataset for null values"
   ]
  },
  {
   "cell_type": "code",
   "execution_count": 6,
   "id": "9638322b",
   "metadata": {},
   "outputs": [
    {
     "name": "stdout",
     "output_type": "stream",
     "text": [
      "<class 'pandas.core.frame.DataFrame'>\n",
      "RangeIndex: 6810 entries, 0 to 6809\n",
      "Data columns (total 12 columns):\n",
      " #   Column          Non-Null Count  Dtype  \n",
      "---  ------          --------------  -----  \n",
      " 0   isbn13          6810 non-null   int64  \n",
      " 1   isbn10          6810 non-null   object \n",
      " 2   title           6810 non-null   object \n",
      " 3   subtitle        2381 non-null   object \n",
      " 4   authors         6738 non-null   object \n",
      " 5   categories      6711 non-null   object \n",
      " 6   thumbnail       6481 non-null   object \n",
      " 7   description     6548 non-null   object \n",
      " 8   published_year  6804 non-null   float64\n",
      " 9   average_rating  6767 non-null   float64\n",
      " 10  num_pages       6767 non-null   float64\n",
      " 11  ratings_count   6767 non-null   float64\n",
      "dtypes: float64(4), int64(1), object(7)\n",
      "memory usage: 638.6+ KB\n"
     ]
    }
   ],
   "source": [
    "bk_df.info()"
   ]
  },
  {
   "cell_type": "markdown",
   "id": "031d7b07",
   "metadata": {},
   "source": [
    "All the columns except isbn13, isbn10 and title have missing data"
   ]
  },
  {
   "cell_type": "markdown",
   "id": "2d4b4d17",
   "metadata": {},
   "source": [
    "#### Checking the percentage of data missing in each rows in order to drop or retain the rows"
   ]
  },
  {
   "cell_type": "code",
   "execution_count": 7,
   "id": "373db11e",
   "metadata": {},
   "outputs": [
    {
     "data": {
      "text/plain": [
       "isbn13             0.000000\n",
       "isbn10             0.000000\n",
       "title              0.000000\n",
       "subtitle          65.036711\n",
       "authors            1.057269\n",
       "categories         1.453744\n",
       "thumbnail          4.831131\n",
       "description        3.847283\n",
       "published_year     0.088106\n",
       "average_rating     0.631424\n",
       "num_pages          0.631424\n",
       "ratings_count      0.631424\n",
       "dtype: float64"
      ]
     },
     "execution_count": 7,
     "metadata": {},
     "output_type": "execute_result"
    }
   ],
   "source": [
    "bk_df.isnull().sum() / len(bk_df)*100"
   ]
  },
  {
   "cell_type": "markdown",
   "id": "62ee190e",
   "metadata": {},
   "source": [
    "#### The threshold value 20-25% of missing data is acceptable and can be imputed\n",
    "65% of the data is missing in 'subtitle' column. Also, 'subtitle' column is not a significant column considered for recommending a book. <br>\n",
    "So, we have to drop this column"
   ]
  },
  {
   "cell_type": "markdown",
   "id": "5b61b6c8",
   "metadata": {},
   "source": [
    "#### Analysing the significance of a variable (i.e., a column is a significant column considered for recommending a book or not)"
   ]
  },
  {
   "cell_type": "code",
   "execution_count": 8,
   "id": "99f0db65",
   "metadata": {},
   "outputs": [],
   "source": [
    "# Going through the columns one by one to decide if its significant in recommending a book\n",
    "# The significant variables are,\n",
    "# 1.isbn13 - required for deployment purpose\n",
    "# 2.isbn10 - required for deployment purpose\n",
    "# 3.title\n",
    "# 4.authors\n",
    "# 5.categories\n",
    "# 6.description"
   ]
  },
  {
   "cell_type": "code",
   "execution_count": 9,
   "id": "3ab02503",
   "metadata": {},
   "outputs": [
    {
     "data": {
      "text/html": [
       "<div>\n",
       "<style scoped>\n",
       "    .dataframe tbody tr th:only-of-type {\n",
       "        vertical-align: middle;\n",
       "    }\n",
       "\n",
       "    .dataframe tbody tr th {\n",
       "        vertical-align: top;\n",
       "    }\n",
       "\n",
       "    .dataframe thead th {\n",
       "        text-align: right;\n",
       "    }\n",
       "</style>\n",
       "<table border=\"1\" class=\"dataframe\">\n",
       "  <thead>\n",
       "    <tr style=\"text-align: right;\">\n",
       "      <th></th>\n",
       "      <th>isbn13</th>\n",
       "      <th>isbn10</th>\n",
       "      <th>title</th>\n",
       "      <th>authors</th>\n",
       "      <th>categories</th>\n",
       "      <th>description</th>\n",
       "    </tr>\n",
       "  </thead>\n",
       "  <tbody>\n",
       "    <tr>\n",
       "      <th>0</th>\n",
       "      <td>9780002005883</td>\n",
       "      <td>0002005883</td>\n",
       "      <td>Gilead</td>\n",
       "      <td>Marilynne Robinson</td>\n",
       "      <td>Fiction</td>\n",
       "      <td>A NOVEL THAT READERS and critics have been eag...</td>\n",
       "    </tr>\n",
       "    <tr>\n",
       "      <th>1</th>\n",
       "      <td>9780002261982</td>\n",
       "      <td>0002261987</td>\n",
       "      <td>Spider's Web</td>\n",
       "      <td>Charles Osborne;Agatha Christie</td>\n",
       "      <td>Detective and mystery stories</td>\n",
       "      <td>A new 'Christie for Christmas' -- a full-lengt...</td>\n",
       "    </tr>\n",
       "    <tr>\n",
       "      <th>2</th>\n",
       "      <td>9780006163831</td>\n",
       "      <td>0006163831</td>\n",
       "      <td>The One Tree</td>\n",
       "      <td>Stephen R. Donaldson</td>\n",
       "      <td>American fiction</td>\n",
       "      <td>Volume Two of Stephen Donaldson's acclaimed se...</td>\n",
       "    </tr>\n",
       "    <tr>\n",
       "      <th>3</th>\n",
       "      <td>9780006178736</td>\n",
       "      <td>0006178731</td>\n",
       "      <td>Rage of angels</td>\n",
       "      <td>Sidney Sheldon</td>\n",
       "      <td>Fiction</td>\n",
       "      <td>A memorable, mesmerizing heroine Jennifer -- b...</td>\n",
       "    </tr>\n",
       "    <tr>\n",
       "      <th>4</th>\n",
       "      <td>9780006280897</td>\n",
       "      <td>0006280897</td>\n",
       "      <td>The Four Loves</td>\n",
       "      <td>Clive Staples Lewis</td>\n",
       "      <td>Christian life</td>\n",
       "      <td>Lewis' work on the nature of love divides love...</td>\n",
       "    </tr>\n",
       "  </tbody>\n",
       "</table>\n",
       "</div>"
      ],
      "text/plain": [
       "          isbn13      isbn10           title                          authors  \\\n",
       "0  9780002005883  0002005883          Gilead               Marilynne Robinson   \n",
       "1  9780002261982  0002261987    Spider's Web  Charles Osborne;Agatha Christie   \n",
       "2  9780006163831  0006163831    The One Tree             Stephen R. Donaldson   \n",
       "3  9780006178736  0006178731  Rage of angels                   Sidney Sheldon   \n",
       "4  9780006280897  0006280897  The Four Loves              Clive Staples Lewis   \n",
       "\n",
       "                      categories  \\\n",
       "0                        Fiction   \n",
       "1  Detective and mystery stories   \n",
       "2               American fiction   \n",
       "3                        Fiction   \n",
       "4                 Christian life   \n",
       "\n",
       "                                         description  \n",
       "0  A NOVEL THAT READERS and critics have been eag...  \n",
       "1  A new 'Christie for Christmas' -- a full-lengt...  \n",
       "2  Volume Two of Stephen Donaldson's acclaimed se...  \n",
       "3  A memorable, mesmerizing heroine Jennifer -- b...  \n",
       "4  Lewis' work on the nature of love divides love...  "
      ]
     },
     "execution_count": 9,
     "metadata": {},
     "output_type": "execute_result"
    }
   ],
   "source": [
    "bk_filtered=bk_df[['isbn13','isbn10','title','authors','categories','description']]\n",
    "bk_filtered.head()"
   ]
  },
  {
   "cell_type": "markdown",
   "id": "b4f27c9b",
   "metadata": {},
   "source": [
    "#### Handling the null values"
   ]
  },
  {
   "cell_type": "markdown",
   "id": "9f29e9ab",
   "metadata": {},
   "source": [
    "Among all the columns that have missing data(checked previously - All the columns except isbn13, isbn10 and title have missing data) <br> <br>\n",
    "We know that we cannot do imputation here because the author, category and description of every movie is unique..so, we keep the null values as such"
   ]
  },
  {
   "cell_type": "code",
   "execution_count": 10,
   "id": "2e918f29",
   "metadata": {},
   "outputs": [
    {
     "data": {
      "text/plain": [
       "isbn13           0\n",
       "isbn10           0\n",
       "title            0\n",
       "authors         72\n",
       "categories      99\n",
       "description    262\n",
       "dtype: int64"
      ]
     },
     "execution_count": 10,
     "metadata": {},
     "output_type": "execute_result"
    }
   ],
   "source": [
    "bk_filtered.isnull().sum()"
   ]
  },
  {
   "cell_type": "markdown",
   "id": "7fee17bf",
   "metadata": {},
   "source": [
    "#### Converting the values to a list and removing the space inbetween"
   ]
  },
  {
   "cell_type": "code",
   "execution_count": 11,
   "id": "78f606a9",
   "metadata": {},
   "outputs": [],
   "source": [
    "def lst(text):\n",
    "    lst1=[]\n",
    "    str1=''\n",
    "    # Check if text is not NaN\n",
    "    if isinstance(text, str):\n",
    "        for i in text:\n",
    "            if i.isalpha() or i==',':\n",
    "                str1+=i\n",
    "            if i==';':\n",
    "                str1+=i.replace(';',',')\n",
    "        lst1.append(str1)\n",
    "    return lst1"
   ]
  },
  {
   "cell_type": "code",
   "execution_count": 12,
   "id": "7115fed7",
   "metadata": {},
   "outputs": [],
   "source": [
    "bk_filtered['authors']=bk_filtered['authors'].apply(lst)"
   ]
  },
  {
   "cell_type": "code",
   "execution_count": 13,
   "id": "dd5c76b6",
   "metadata": {},
   "outputs": [
    {
     "data": {
      "text/html": [
       "<div>\n",
       "<style scoped>\n",
       "    .dataframe tbody tr th:only-of-type {\n",
       "        vertical-align: middle;\n",
       "    }\n",
       "\n",
       "    .dataframe tbody tr th {\n",
       "        vertical-align: top;\n",
       "    }\n",
       "\n",
       "    .dataframe thead th {\n",
       "        text-align: right;\n",
       "    }\n",
       "</style>\n",
       "<table border=\"1\" class=\"dataframe\">\n",
       "  <thead>\n",
       "    <tr style=\"text-align: right;\">\n",
       "      <th></th>\n",
       "      <th>isbn13</th>\n",
       "      <th>isbn10</th>\n",
       "      <th>title</th>\n",
       "      <th>authors</th>\n",
       "      <th>categories</th>\n",
       "      <th>description</th>\n",
       "    </tr>\n",
       "  </thead>\n",
       "  <tbody>\n",
       "    <tr>\n",
       "      <th>0</th>\n",
       "      <td>9780002005883</td>\n",
       "      <td>0002005883</td>\n",
       "      <td>Gilead</td>\n",
       "      <td>[MarilynneRobinson]</td>\n",
       "      <td>Fiction</td>\n",
       "      <td>A NOVEL THAT READERS and critics have been eag...</td>\n",
       "    </tr>\n",
       "    <tr>\n",
       "      <th>1</th>\n",
       "      <td>9780002261982</td>\n",
       "      <td>0002261987</td>\n",
       "      <td>Spider's Web</td>\n",
       "      <td>[CharlesOsborne,AgathaChristie]</td>\n",
       "      <td>Detective and mystery stories</td>\n",
       "      <td>A new 'Christie for Christmas' -- a full-lengt...</td>\n",
       "    </tr>\n",
       "    <tr>\n",
       "      <th>2</th>\n",
       "      <td>9780006163831</td>\n",
       "      <td>0006163831</td>\n",
       "      <td>The One Tree</td>\n",
       "      <td>[StephenRDonaldson]</td>\n",
       "      <td>American fiction</td>\n",
       "      <td>Volume Two of Stephen Donaldson's acclaimed se...</td>\n",
       "    </tr>\n",
       "    <tr>\n",
       "      <th>3</th>\n",
       "      <td>9780006178736</td>\n",
       "      <td>0006178731</td>\n",
       "      <td>Rage of angels</td>\n",
       "      <td>[SidneySheldon]</td>\n",
       "      <td>Fiction</td>\n",
       "      <td>A memorable, mesmerizing heroine Jennifer -- b...</td>\n",
       "    </tr>\n",
       "    <tr>\n",
       "      <th>4</th>\n",
       "      <td>9780006280897</td>\n",
       "      <td>0006280897</td>\n",
       "      <td>The Four Loves</td>\n",
       "      <td>[CliveStaplesLewis]</td>\n",
       "      <td>Christian life</td>\n",
       "      <td>Lewis' work on the nature of love divides love...</td>\n",
       "    </tr>\n",
       "  </tbody>\n",
       "</table>\n",
       "</div>"
      ],
      "text/plain": [
       "          isbn13      isbn10           title                          authors  \\\n",
       "0  9780002005883  0002005883          Gilead              [MarilynneRobinson]   \n",
       "1  9780002261982  0002261987    Spider's Web  [CharlesOsborne,AgathaChristie]   \n",
       "2  9780006163831  0006163831    The One Tree              [StephenRDonaldson]   \n",
       "3  9780006178736  0006178731  Rage of angels                  [SidneySheldon]   \n",
       "4  9780006280897  0006280897  The Four Loves              [CliveStaplesLewis]   \n",
       "\n",
       "                      categories  \\\n",
       "0                        Fiction   \n",
       "1  Detective and mystery stories   \n",
       "2               American fiction   \n",
       "3                        Fiction   \n",
       "4                 Christian life   \n",
       "\n",
       "                                         description  \n",
       "0  A NOVEL THAT READERS and critics have been eag...  \n",
       "1  A new 'Christie for Christmas' -- a full-lengt...  \n",
       "2  Volume Two of Stephen Donaldson's acclaimed se...  \n",
       "3  A memorable, mesmerizing heroine Jennifer -- b...  \n",
       "4  Lewis' work on the nature of love divides love...  "
      ]
     },
     "execution_count": 13,
     "metadata": {},
     "output_type": "execute_result"
    }
   ],
   "source": [
    "bk_filtered.head()"
   ]
  },
  {
   "cell_type": "code",
   "execution_count": 14,
   "id": "5bdbe5c4",
   "metadata": {},
   "outputs": [],
   "source": [
    "bk_filtered['categories']=bk_filtered['categories'].apply(lst)"
   ]
  },
  {
   "cell_type": "code",
   "execution_count": 15,
   "id": "79cc9ab9",
   "metadata": {},
   "outputs": [
    {
     "data": {
      "text/html": [
       "<div>\n",
       "<style scoped>\n",
       "    .dataframe tbody tr th:only-of-type {\n",
       "        vertical-align: middle;\n",
       "    }\n",
       "\n",
       "    .dataframe tbody tr th {\n",
       "        vertical-align: top;\n",
       "    }\n",
       "\n",
       "    .dataframe thead th {\n",
       "        text-align: right;\n",
       "    }\n",
       "</style>\n",
       "<table border=\"1\" class=\"dataframe\">\n",
       "  <thead>\n",
       "    <tr style=\"text-align: right;\">\n",
       "      <th></th>\n",
       "      <th>isbn13</th>\n",
       "      <th>isbn10</th>\n",
       "      <th>title</th>\n",
       "      <th>authors</th>\n",
       "      <th>categories</th>\n",
       "      <th>description</th>\n",
       "    </tr>\n",
       "  </thead>\n",
       "  <tbody>\n",
       "    <tr>\n",
       "      <th>0</th>\n",
       "      <td>9780002005883</td>\n",
       "      <td>0002005883</td>\n",
       "      <td>Gilead</td>\n",
       "      <td>[MarilynneRobinson]</td>\n",
       "      <td>[Fiction]</td>\n",
       "      <td>A NOVEL THAT READERS and critics have been eag...</td>\n",
       "    </tr>\n",
       "    <tr>\n",
       "      <th>1</th>\n",
       "      <td>9780002261982</td>\n",
       "      <td>0002261987</td>\n",
       "      <td>Spider's Web</td>\n",
       "      <td>[CharlesOsborne,AgathaChristie]</td>\n",
       "      <td>[Detectiveandmysterystories]</td>\n",
       "      <td>A new 'Christie for Christmas' -- a full-lengt...</td>\n",
       "    </tr>\n",
       "    <tr>\n",
       "      <th>2</th>\n",
       "      <td>9780006163831</td>\n",
       "      <td>0006163831</td>\n",
       "      <td>The One Tree</td>\n",
       "      <td>[StephenRDonaldson]</td>\n",
       "      <td>[Americanfiction]</td>\n",
       "      <td>Volume Two of Stephen Donaldson's acclaimed se...</td>\n",
       "    </tr>\n",
       "    <tr>\n",
       "      <th>3</th>\n",
       "      <td>9780006178736</td>\n",
       "      <td>0006178731</td>\n",
       "      <td>Rage of angels</td>\n",
       "      <td>[SidneySheldon]</td>\n",
       "      <td>[Fiction]</td>\n",
       "      <td>A memorable, mesmerizing heroine Jennifer -- b...</td>\n",
       "    </tr>\n",
       "    <tr>\n",
       "      <th>4</th>\n",
       "      <td>9780006280897</td>\n",
       "      <td>0006280897</td>\n",
       "      <td>The Four Loves</td>\n",
       "      <td>[CliveStaplesLewis]</td>\n",
       "      <td>[Christianlife]</td>\n",
       "      <td>Lewis' work on the nature of love divides love...</td>\n",
       "    </tr>\n",
       "  </tbody>\n",
       "</table>\n",
       "</div>"
      ],
      "text/plain": [
       "          isbn13      isbn10           title                          authors  \\\n",
       "0  9780002005883  0002005883          Gilead              [MarilynneRobinson]   \n",
       "1  9780002261982  0002261987    Spider's Web  [CharlesOsborne,AgathaChristie]   \n",
       "2  9780006163831  0006163831    The One Tree              [StephenRDonaldson]   \n",
       "3  9780006178736  0006178731  Rage of angels                  [SidneySheldon]   \n",
       "4  9780006280897  0006280897  The Four Loves              [CliveStaplesLewis]   \n",
       "\n",
       "                     categories  \\\n",
       "0                     [Fiction]   \n",
       "1  [Detectiveandmysterystories]   \n",
       "2             [Americanfiction]   \n",
       "3                     [Fiction]   \n",
       "4               [Christianlife]   \n",
       "\n",
       "                                         description  \n",
       "0  A NOVEL THAT READERS and critics have been eag...  \n",
       "1  A new 'Christie for Christmas' -- a full-lengt...  \n",
       "2  Volume Two of Stephen Donaldson's acclaimed se...  \n",
       "3  A memorable, mesmerizing heroine Jennifer -- b...  \n",
       "4  Lewis' work on the nature of love divides love...  "
      ]
     },
     "execution_count": 15,
     "metadata": {},
     "output_type": "execute_result"
    }
   ],
   "source": [
    "bk_filtered.head()"
   ]
  },
  {
   "cell_type": "markdown",
   "id": "fce1cda5",
   "metadata": {},
   "source": [
    "The columns 'authors', 'categories' have data word by word and is seperated using a comma. The column description has an entire sentence for which the token conversion is tough..So, we have to split the entire sentence into list of words, which makes it easier for token conversion"
   ]
  },
  {
   "cell_type": "code",
   "execution_count": 16,
   "id": "f7d06506",
   "metadata": {},
   "outputs": [],
   "source": [
    "# Converting the 'description' column to string datatype\n",
    "def to_str(text):\n",
    "    return str(text)"
   ]
  },
  {
   "cell_type": "code",
   "execution_count": 17,
   "id": "706ea154",
   "metadata": {},
   "outputs": [],
   "source": [
    "bk_filtered['description']=bk_filtered['description'].apply(to_str)"
   ]
  },
  {
   "cell_type": "code",
   "execution_count": 18,
   "id": "0812b767",
   "metadata": {},
   "outputs": [
    {
     "data": {
      "text/html": [
       "<div>\n",
       "<style scoped>\n",
       "    .dataframe tbody tr th:only-of-type {\n",
       "        vertical-align: middle;\n",
       "    }\n",
       "\n",
       "    .dataframe tbody tr th {\n",
       "        vertical-align: top;\n",
       "    }\n",
       "\n",
       "    .dataframe thead th {\n",
       "        text-align: right;\n",
       "    }\n",
       "</style>\n",
       "<table border=\"1\" class=\"dataframe\">\n",
       "  <thead>\n",
       "    <tr style=\"text-align: right;\">\n",
       "      <th></th>\n",
       "      <th>isbn13</th>\n",
       "      <th>isbn10</th>\n",
       "      <th>title</th>\n",
       "      <th>authors</th>\n",
       "      <th>categories</th>\n",
       "      <th>description</th>\n",
       "    </tr>\n",
       "  </thead>\n",
       "  <tbody>\n",
       "    <tr>\n",
       "      <th>0</th>\n",
       "      <td>9780002005883</td>\n",
       "      <td>0002005883</td>\n",
       "      <td>Gilead</td>\n",
       "      <td>[MarilynneRobinson]</td>\n",
       "      <td>[Fiction]</td>\n",
       "      <td>A NOVEL THAT READERS and critics have been eag...</td>\n",
       "    </tr>\n",
       "    <tr>\n",
       "      <th>1</th>\n",
       "      <td>9780002261982</td>\n",
       "      <td>0002261987</td>\n",
       "      <td>Spider's Web</td>\n",
       "      <td>[CharlesOsborne,AgathaChristie]</td>\n",
       "      <td>[Detectiveandmysterystories]</td>\n",
       "      <td>A new 'Christie for Christmas' -- a full-lengt...</td>\n",
       "    </tr>\n",
       "    <tr>\n",
       "      <th>2</th>\n",
       "      <td>9780006163831</td>\n",
       "      <td>0006163831</td>\n",
       "      <td>The One Tree</td>\n",
       "      <td>[StephenRDonaldson]</td>\n",
       "      <td>[Americanfiction]</td>\n",
       "      <td>Volume Two of Stephen Donaldson's acclaimed se...</td>\n",
       "    </tr>\n",
       "    <tr>\n",
       "      <th>3</th>\n",
       "      <td>9780006178736</td>\n",
       "      <td>0006178731</td>\n",
       "      <td>Rage of angels</td>\n",
       "      <td>[SidneySheldon]</td>\n",
       "      <td>[Fiction]</td>\n",
       "      <td>A memorable, mesmerizing heroine Jennifer -- b...</td>\n",
       "    </tr>\n",
       "    <tr>\n",
       "      <th>4</th>\n",
       "      <td>9780006280897</td>\n",
       "      <td>0006280897</td>\n",
       "      <td>The Four Loves</td>\n",
       "      <td>[CliveStaplesLewis]</td>\n",
       "      <td>[Christianlife]</td>\n",
       "      <td>Lewis' work on the nature of love divides love...</td>\n",
       "    </tr>\n",
       "  </tbody>\n",
       "</table>\n",
       "</div>"
      ],
      "text/plain": [
       "          isbn13      isbn10           title                          authors  \\\n",
       "0  9780002005883  0002005883          Gilead              [MarilynneRobinson]   \n",
       "1  9780002261982  0002261987    Spider's Web  [CharlesOsborne,AgathaChristie]   \n",
       "2  9780006163831  0006163831    The One Tree              [StephenRDonaldson]   \n",
       "3  9780006178736  0006178731  Rage of angels                  [SidneySheldon]   \n",
       "4  9780006280897  0006280897  The Four Loves              [CliveStaplesLewis]   \n",
       "\n",
       "                     categories  \\\n",
       "0                     [Fiction]   \n",
       "1  [Detectiveandmysterystories]   \n",
       "2             [Americanfiction]   \n",
       "3                     [Fiction]   \n",
       "4               [Christianlife]   \n",
       "\n",
       "                                         description  \n",
       "0  A NOVEL THAT READERS and critics have been eag...  \n",
       "1  A new 'Christie for Christmas' -- a full-lengt...  \n",
       "2  Volume Two of Stephen Donaldson's acclaimed se...  \n",
       "3  A memorable, mesmerizing heroine Jennifer -- b...  \n",
       "4  Lewis' work on the nature of love divides love...  "
      ]
     },
     "execution_count": 18,
     "metadata": {},
     "output_type": "execute_result"
    }
   ],
   "source": [
    "bk_filtered.head()"
   ]
  },
  {
   "cell_type": "code",
   "execution_count": 19,
   "id": "97396e3d",
   "metadata": {},
   "outputs": [],
   "source": [
    "def sent_to_words(text):\n",
    "    return text.split() # splitting the entire sentence to list of words"
   ]
  },
  {
   "cell_type": "code",
   "execution_count": 20,
   "id": "83c2ce55",
   "metadata": {},
   "outputs": [],
   "source": [
    "bk_filtered['description']=bk_filtered['description'].apply(sent_to_words)"
   ]
  },
  {
   "cell_type": "code",
   "execution_count": 21,
   "id": "d66fbda0",
   "metadata": {},
   "outputs": [
    {
     "data": {
      "text/html": [
       "<div>\n",
       "<style scoped>\n",
       "    .dataframe tbody tr th:only-of-type {\n",
       "        vertical-align: middle;\n",
       "    }\n",
       "\n",
       "    .dataframe tbody tr th {\n",
       "        vertical-align: top;\n",
       "    }\n",
       "\n",
       "    .dataframe thead th {\n",
       "        text-align: right;\n",
       "    }\n",
       "</style>\n",
       "<table border=\"1\" class=\"dataframe\">\n",
       "  <thead>\n",
       "    <tr style=\"text-align: right;\">\n",
       "      <th></th>\n",
       "      <th>isbn13</th>\n",
       "      <th>isbn10</th>\n",
       "      <th>title</th>\n",
       "      <th>authors</th>\n",
       "      <th>categories</th>\n",
       "      <th>description</th>\n",
       "    </tr>\n",
       "  </thead>\n",
       "  <tbody>\n",
       "    <tr>\n",
       "      <th>0</th>\n",
       "      <td>9780002005883</td>\n",
       "      <td>0002005883</td>\n",
       "      <td>Gilead</td>\n",
       "      <td>[MarilynneRobinson]</td>\n",
       "      <td>[Fiction]</td>\n",
       "      <td>[A, NOVEL, THAT, READERS, and, critics, have, ...</td>\n",
       "    </tr>\n",
       "    <tr>\n",
       "      <th>1</th>\n",
       "      <td>9780002261982</td>\n",
       "      <td>0002261987</td>\n",
       "      <td>Spider's Web</td>\n",
       "      <td>[CharlesOsborne,AgathaChristie]</td>\n",
       "      <td>[Detectiveandmysterystories]</td>\n",
       "      <td>[A, new, 'Christie, for, Christmas', --, a, fu...</td>\n",
       "    </tr>\n",
       "    <tr>\n",
       "      <th>2</th>\n",
       "      <td>9780006163831</td>\n",
       "      <td>0006163831</td>\n",
       "      <td>The One Tree</td>\n",
       "      <td>[StephenRDonaldson]</td>\n",
       "      <td>[Americanfiction]</td>\n",
       "      <td>[Volume, Two, of, Stephen, Donaldson's, acclai...</td>\n",
       "    </tr>\n",
       "    <tr>\n",
       "      <th>3</th>\n",
       "      <td>9780006178736</td>\n",
       "      <td>0006178731</td>\n",
       "      <td>Rage of angels</td>\n",
       "      <td>[SidneySheldon]</td>\n",
       "      <td>[Fiction]</td>\n",
       "      <td>[A, memorable,, mesmerizing, heroine, Jennifer...</td>\n",
       "    </tr>\n",
       "    <tr>\n",
       "      <th>4</th>\n",
       "      <td>9780006280897</td>\n",
       "      <td>0006280897</td>\n",
       "      <td>The Four Loves</td>\n",
       "      <td>[CliveStaplesLewis]</td>\n",
       "      <td>[Christianlife]</td>\n",
       "      <td>[Lewis', work, on, the, nature, of, love, divi...</td>\n",
       "    </tr>\n",
       "  </tbody>\n",
       "</table>\n",
       "</div>"
      ],
      "text/plain": [
       "          isbn13      isbn10           title                          authors  \\\n",
       "0  9780002005883  0002005883          Gilead              [MarilynneRobinson]   \n",
       "1  9780002261982  0002261987    Spider's Web  [CharlesOsborne,AgathaChristie]   \n",
       "2  9780006163831  0006163831    The One Tree              [StephenRDonaldson]   \n",
       "3  9780006178736  0006178731  Rage of angels                  [SidneySheldon]   \n",
       "4  9780006280897  0006280897  The Four Loves              [CliveStaplesLewis]   \n",
       "\n",
       "                     categories  \\\n",
       "0                     [Fiction]   \n",
       "1  [Detectiveandmysterystories]   \n",
       "2             [Americanfiction]   \n",
       "3                     [Fiction]   \n",
       "4               [Christianlife]   \n",
       "\n",
       "                                         description  \n",
       "0  [A, NOVEL, THAT, READERS, and, critics, have, ...  \n",
       "1  [A, new, 'Christie, for, Christmas', --, a, fu...  \n",
       "2  [Volume, Two, of, Stephen, Donaldson's, acclai...  \n",
       "3  [A, memorable,, mesmerizing, heroine, Jennifer...  \n",
       "4  [Lewis', work, on, the, nature, of, love, divi...  "
      ]
     },
     "execution_count": 21,
     "metadata": {},
     "output_type": "execute_result"
    }
   ],
   "source": [
    "bk_filtered.head()"
   ]
  },
  {
   "cell_type": "markdown",
   "id": "77fed87a",
   "metadata": {},
   "source": [
    "#### Merging authors, categories, and description, because when a user searches, he searches using the title..so, we will have only four columns finally for encoding (i.e., isbn13, isbn10, title, context[merged columns])"
   ]
  },
  {
   "cell_type": "code",
   "execution_count": 22,
   "id": "482a8ba3",
   "metadata": {},
   "outputs": [],
   "source": [
    "bk_filtered['context']=bk_filtered['authors']+bk_filtered['categories']+bk_filtered['description']"
   ]
  },
  {
   "cell_type": "code",
   "execution_count": 23,
   "id": "de01c16b",
   "metadata": {
    "scrolled": false
   },
   "outputs": [
    {
     "data": {
      "text/html": [
       "<div>\n",
       "<style scoped>\n",
       "    .dataframe tbody tr th:only-of-type {\n",
       "        vertical-align: middle;\n",
       "    }\n",
       "\n",
       "    .dataframe tbody tr th {\n",
       "        vertical-align: top;\n",
       "    }\n",
       "\n",
       "    .dataframe thead th {\n",
       "        text-align: right;\n",
       "    }\n",
       "</style>\n",
       "<table border=\"1\" class=\"dataframe\">\n",
       "  <thead>\n",
       "    <tr style=\"text-align: right;\">\n",
       "      <th></th>\n",
       "      <th>isbn13</th>\n",
       "      <th>isbn10</th>\n",
       "      <th>title</th>\n",
       "      <th>authors</th>\n",
       "      <th>categories</th>\n",
       "      <th>description</th>\n",
       "      <th>context</th>\n",
       "    </tr>\n",
       "  </thead>\n",
       "  <tbody>\n",
       "    <tr>\n",
       "      <th>0</th>\n",
       "      <td>9780002005883</td>\n",
       "      <td>0002005883</td>\n",
       "      <td>Gilead</td>\n",
       "      <td>[MarilynneRobinson]</td>\n",
       "      <td>[Fiction]</td>\n",
       "      <td>[A, NOVEL, THAT, READERS, and, critics, have, ...</td>\n",
       "      <td>[MarilynneRobinson, Fiction, A, NOVEL, THAT, R...</td>\n",
       "    </tr>\n",
       "    <tr>\n",
       "      <th>1</th>\n",
       "      <td>9780002261982</td>\n",
       "      <td>0002261987</td>\n",
       "      <td>Spider's Web</td>\n",
       "      <td>[CharlesOsborne,AgathaChristie]</td>\n",
       "      <td>[Detectiveandmysterystories]</td>\n",
       "      <td>[A, new, 'Christie, for, Christmas', --, a, fu...</td>\n",
       "      <td>[CharlesOsborne,AgathaChristie, Detectiveandmy...</td>\n",
       "    </tr>\n",
       "    <tr>\n",
       "      <th>2</th>\n",
       "      <td>9780006163831</td>\n",
       "      <td>0006163831</td>\n",
       "      <td>The One Tree</td>\n",
       "      <td>[StephenRDonaldson]</td>\n",
       "      <td>[Americanfiction]</td>\n",
       "      <td>[Volume, Two, of, Stephen, Donaldson's, acclai...</td>\n",
       "      <td>[StephenRDonaldson, Americanfiction, Volume, T...</td>\n",
       "    </tr>\n",
       "    <tr>\n",
       "      <th>3</th>\n",
       "      <td>9780006178736</td>\n",
       "      <td>0006178731</td>\n",
       "      <td>Rage of angels</td>\n",
       "      <td>[SidneySheldon]</td>\n",
       "      <td>[Fiction]</td>\n",
       "      <td>[A, memorable,, mesmerizing, heroine, Jennifer...</td>\n",
       "      <td>[SidneySheldon, Fiction, A, memorable,, mesmer...</td>\n",
       "    </tr>\n",
       "    <tr>\n",
       "      <th>4</th>\n",
       "      <td>9780006280897</td>\n",
       "      <td>0006280897</td>\n",
       "      <td>The Four Loves</td>\n",
       "      <td>[CliveStaplesLewis]</td>\n",
       "      <td>[Christianlife]</td>\n",
       "      <td>[Lewis', work, on, the, nature, of, love, divi...</td>\n",
       "      <td>[CliveStaplesLewis, Christianlife, Lewis', wor...</td>\n",
       "    </tr>\n",
       "  </tbody>\n",
       "</table>\n",
       "</div>"
      ],
      "text/plain": [
       "          isbn13      isbn10           title                          authors  \\\n",
       "0  9780002005883  0002005883          Gilead              [MarilynneRobinson]   \n",
       "1  9780002261982  0002261987    Spider's Web  [CharlesOsborne,AgathaChristie]   \n",
       "2  9780006163831  0006163831    The One Tree              [StephenRDonaldson]   \n",
       "3  9780006178736  0006178731  Rage of angels                  [SidneySheldon]   \n",
       "4  9780006280897  0006280897  The Four Loves              [CliveStaplesLewis]   \n",
       "\n",
       "                     categories  \\\n",
       "0                     [Fiction]   \n",
       "1  [Detectiveandmysterystories]   \n",
       "2             [Americanfiction]   \n",
       "3                     [Fiction]   \n",
       "4               [Christianlife]   \n",
       "\n",
       "                                         description  \\\n",
       "0  [A, NOVEL, THAT, READERS, and, critics, have, ...   \n",
       "1  [A, new, 'Christie, for, Christmas', --, a, fu...   \n",
       "2  [Volume, Two, of, Stephen, Donaldson's, acclai...   \n",
       "3  [A, memorable,, mesmerizing, heroine, Jennifer...   \n",
       "4  [Lewis', work, on, the, nature, of, love, divi...   \n",
       "\n",
       "                                             context  \n",
       "0  [MarilynneRobinson, Fiction, A, NOVEL, THAT, R...  \n",
       "1  [CharlesOsborne,AgathaChristie, Detectiveandmy...  \n",
       "2  [StephenRDonaldson, Americanfiction, Volume, T...  \n",
       "3  [SidneySheldon, Fiction, A, memorable,, mesmer...  \n",
       "4  [CliveStaplesLewis, Christianlife, Lewis', wor...  "
      ]
     },
     "execution_count": 23,
     "metadata": {},
     "output_type": "execute_result"
    }
   ],
   "source": [
    "bk_filtered.head()"
   ]
  },
  {
   "cell_type": "code",
   "execution_count": 24,
   "id": "0405b6f9",
   "metadata": {},
   "outputs": [],
   "source": [
    "bk_filtered.drop(['authors','categories','description'],axis=1,inplace=True)"
   ]
  },
  {
   "cell_type": "code",
   "execution_count": 25,
   "id": "3a6fb4d5",
   "metadata": {},
   "outputs": [
    {
     "data": {
      "text/html": [
       "<div>\n",
       "<style scoped>\n",
       "    .dataframe tbody tr th:only-of-type {\n",
       "        vertical-align: middle;\n",
       "    }\n",
       "\n",
       "    .dataframe tbody tr th {\n",
       "        vertical-align: top;\n",
       "    }\n",
       "\n",
       "    .dataframe thead th {\n",
       "        text-align: right;\n",
       "    }\n",
       "</style>\n",
       "<table border=\"1\" class=\"dataframe\">\n",
       "  <thead>\n",
       "    <tr style=\"text-align: right;\">\n",
       "      <th></th>\n",
       "      <th>isbn13</th>\n",
       "      <th>isbn10</th>\n",
       "      <th>title</th>\n",
       "      <th>context</th>\n",
       "    </tr>\n",
       "  </thead>\n",
       "  <tbody>\n",
       "    <tr>\n",
       "      <th>0</th>\n",
       "      <td>9780002005883</td>\n",
       "      <td>0002005883</td>\n",
       "      <td>Gilead</td>\n",
       "      <td>[MarilynneRobinson, Fiction, A, NOVEL, THAT, R...</td>\n",
       "    </tr>\n",
       "    <tr>\n",
       "      <th>1</th>\n",
       "      <td>9780002261982</td>\n",
       "      <td>0002261987</td>\n",
       "      <td>Spider's Web</td>\n",
       "      <td>[CharlesOsborne,AgathaChristie, Detectiveandmy...</td>\n",
       "    </tr>\n",
       "    <tr>\n",
       "      <th>2</th>\n",
       "      <td>9780006163831</td>\n",
       "      <td>0006163831</td>\n",
       "      <td>The One Tree</td>\n",
       "      <td>[StephenRDonaldson, Americanfiction, Volume, T...</td>\n",
       "    </tr>\n",
       "    <tr>\n",
       "      <th>3</th>\n",
       "      <td>9780006178736</td>\n",
       "      <td>0006178731</td>\n",
       "      <td>Rage of angels</td>\n",
       "      <td>[SidneySheldon, Fiction, A, memorable,, mesmer...</td>\n",
       "    </tr>\n",
       "    <tr>\n",
       "      <th>4</th>\n",
       "      <td>9780006280897</td>\n",
       "      <td>0006280897</td>\n",
       "      <td>The Four Loves</td>\n",
       "      <td>[CliveStaplesLewis, Christianlife, Lewis', wor...</td>\n",
       "    </tr>\n",
       "  </tbody>\n",
       "</table>\n",
       "</div>"
      ],
      "text/plain": [
       "          isbn13      isbn10           title  \\\n",
       "0  9780002005883  0002005883          Gilead   \n",
       "1  9780002261982  0002261987    Spider's Web   \n",
       "2  9780006163831  0006163831    The One Tree   \n",
       "3  9780006178736  0006178731  Rage of angels   \n",
       "4  9780006280897  0006280897  The Four Loves   \n",
       "\n",
       "                                             context  \n",
       "0  [MarilynneRobinson, Fiction, A, NOVEL, THAT, R...  \n",
       "1  [CharlesOsborne,AgathaChristie, Detectiveandmy...  \n",
       "2  [StephenRDonaldson, Americanfiction, Volume, T...  \n",
       "3  [SidneySheldon, Fiction, A, memorable,, mesmer...  \n",
       "4  [CliveStaplesLewis, Christianlife, Lewis', wor...  "
      ]
     },
     "execution_count": 25,
     "metadata": {},
     "output_type": "execute_result"
    }
   ],
   "source": [
    "bk_filtered.head()"
   ]
  },
  {
   "cell_type": "markdown",
   "id": "cdc7236b",
   "metadata": {},
   "source": [
    "#### In 'context' column, we have the values seperated by comma..now, we are going to combine the values and convert it to a sentence because; when the machine converts them into tokens, it can easily identify and do pattern matching (as a whole sentence) with the other movies"
   ]
  },
  {
   "cell_type": "code",
   "execution_count": 26,
   "id": "16f98779",
   "metadata": {},
   "outputs": [],
   "source": [
    "def space_grant(text):\n",
    "    return \" \".join(text)"
   ]
  },
  {
   "cell_type": "code",
   "execution_count": 27,
   "id": "2501a9a2",
   "metadata": {},
   "outputs": [],
   "source": [
    "bk_filtered['context']=bk_filtered['context'].apply(space_grant)"
   ]
  },
  {
   "cell_type": "code",
   "execution_count": 28,
   "id": "29937ae8",
   "metadata": {},
   "outputs": [
    {
     "data": {
      "text/html": [
       "<div>\n",
       "<style scoped>\n",
       "    .dataframe tbody tr th:only-of-type {\n",
       "        vertical-align: middle;\n",
       "    }\n",
       "\n",
       "    .dataframe tbody tr th {\n",
       "        vertical-align: top;\n",
       "    }\n",
       "\n",
       "    .dataframe thead th {\n",
       "        text-align: right;\n",
       "    }\n",
       "</style>\n",
       "<table border=\"1\" class=\"dataframe\">\n",
       "  <thead>\n",
       "    <tr style=\"text-align: right;\">\n",
       "      <th></th>\n",
       "      <th>isbn13</th>\n",
       "      <th>isbn10</th>\n",
       "      <th>title</th>\n",
       "      <th>context</th>\n",
       "    </tr>\n",
       "  </thead>\n",
       "  <tbody>\n",
       "    <tr>\n",
       "      <th>0</th>\n",
       "      <td>9780002005883</td>\n",
       "      <td>0002005883</td>\n",
       "      <td>Gilead</td>\n",
       "      <td>MarilynneRobinson Fiction A NOVEL THAT READERS...</td>\n",
       "    </tr>\n",
       "    <tr>\n",
       "      <th>1</th>\n",
       "      <td>9780002261982</td>\n",
       "      <td>0002261987</td>\n",
       "      <td>Spider's Web</td>\n",
       "      <td>CharlesOsborne,AgathaChristie Detectiveandmyst...</td>\n",
       "    </tr>\n",
       "    <tr>\n",
       "      <th>2</th>\n",
       "      <td>9780006163831</td>\n",
       "      <td>0006163831</td>\n",
       "      <td>The One Tree</td>\n",
       "      <td>StephenRDonaldson Americanfiction Volume Two o...</td>\n",
       "    </tr>\n",
       "    <tr>\n",
       "      <th>3</th>\n",
       "      <td>9780006178736</td>\n",
       "      <td>0006178731</td>\n",
       "      <td>Rage of angels</td>\n",
       "      <td>SidneySheldon Fiction A memorable, mesmerizing...</td>\n",
       "    </tr>\n",
       "    <tr>\n",
       "      <th>4</th>\n",
       "      <td>9780006280897</td>\n",
       "      <td>0006280897</td>\n",
       "      <td>The Four Loves</td>\n",
       "      <td>CliveStaplesLewis Christianlife Lewis' work on...</td>\n",
       "    </tr>\n",
       "  </tbody>\n",
       "</table>\n",
       "</div>"
      ],
      "text/plain": [
       "          isbn13      isbn10           title  \\\n",
       "0  9780002005883  0002005883          Gilead   \n",
       "1  9780002261982  0002261987    Spider's Web   \n",
       "2  9780006163831  0006163831    The One Tree   \n",
       "3  9780006178736  0006178731  Rage of angels   \n",
       "4  9780006280897  0006280897  The Four Loves   \n",
       "\n",
       "                                             context  \n",
       "0  MarilynneRobinson Fiction A NOVEL THAT READERS...  \n",
       "1  CharlesOsborne,AgathaChristie Detectiveandmyst...  \n",
       "2  StephenRDonaldson Americanfiction Volume Two o...  \n",
       "3  SidneySheldon Fiction A memorable, mesmerizing...  \n",
       "4  CliveStaplesLewis Christianlife Lewis' work on...  "
      ]
     },
     "execution_count": 28,
     "metadata": {},
     "output_type": "execute_result"
    }
   ],
   "source": [
    "bk_filtered.head()"
   ]
  },
  {
   "cell_type": "markdown",
   "id": "569eac6c",
   "metadata": {},
   "source": [
    "### Feature extraction(encoding) - using Bag Of Words (BOW) method"
   ]
  },
  {
   "cell_type": "code",
   "execution_count": 29,
   "id": "37d8d8c9",
   "metadata": {},
   "outputs": [],
   "source": [
    "from sklearn.feature_extraction.text import CountVectorizer"
   ]
  },
  {
   "cell_type": "code",
   "execution_count": 30,
   "id": "b8a11104",
   "metadata": {},
   "outputs": [
    {
     "name": "stdout",
     "output_type": "stream",
     "text": [
      "[[0 0 0 ... 0 0 0]\n",
      " [0 0 0 ... 0 0 0]\n",
      " [0 0 0 ... 0 0 0]\n",
      " ...\n",
      " [0 0 0 ... 0 0 0]\n",
      " [0 0 0 ... 0 0 0]\n",
      " [0 0 0 ... 0 0 0]]\n",
      "Shape of the encoded \"context\" column: (6810, 7000)\n"
     ]
    }
   ],
   "source": [
    "cntvec=CountVectorizer(stop_words='english',max_features=7000)\n",
    "bow=cntvec.fit_transform(bk_filtered['context']).toarray()\n",
    "print(bow)\n",
    "print('Shape of the encoded \"context\" column:',bow.shape)"
   ]
  },
  {
   "cell_type": "markdown",
   "id": "373e9ba1",
   "metadata": {},
   "source": [
    "## Model building\n",
    "#### The content based recommendation system is built based on the similarity metrics(cosine similarity)"
   ]
  },
  {
   "cell_type": "code",
   "execution_count": 31,
   "id": "5ab1f795",
   "metadata": {},
   "outputs": [],
   "source": [
    "from sklearn.metrics.pairwise import cosine_similarity"
   ]
  },
  {
   "cell_type": "code",
   "execution_count": 32,
   "id": "8abcb5b9",
   "metadata": {},
   "outputs": [
    {
     "data": {
      "text/plain": [
       "array([[1.        , 0.00800641, 0.        , ..., 0.        , 0.00836242,\n",
       "        0.        ],\n",
       "       [0.00800641, 1.        , 0.02886751, ..., 0.        , 0.00870388,\n",
       "        0.02886751],\n",
       "       [0.        , 0.02886751, 1.        , ..., 0.        , 0.03015113,\n",
       "        0.        ],\n",
       "       ...,\n",
       "       [0.        , 0.        , 0.        , ..., 1.        , 0.        ,\n",
       "        0.        ],\n",
       "       [0.00836242, 0.00870388, 0.03015113, ..., 0.        , 1.        ,\n",
       "        0.        ],\n",
       "       [0.        , 0.02886751, 0.        , ..., 0.        , 0.        ,\n",
       "        1.        ]])"
      ]
     },
     "execution_count": 32,
     "metadata": {},
     "output_type": "execute_result"
    }
   ],
   "source": [
    "cos_sim=cosine_similarity(bow)\n",
    "cos_sim"
   ]
  },
  {
   "cell_type": "code",
   "execution_count": 33,
   "id": "ff643be8",
   "metadata": {},
   "outputs": [],
   "source": [
    "def recommendation(book):\n",
    "    ind=bk_filtered[bk_filtered['title']==book].index[0]\n",
    "#     'ind' stores the index number of the movie that the user inputs\n",
    "    dist=sorted(list(enumerate(cos_sim[ind])),reverse=True,key=lambda x : x[1])\n",
    "#     the cosine similarity of the input movie is taken and sorted in reverse manner, x[1] \n",
    "#     indicates that the similarity of the given input movie with itself is 1 and that index\n",
    "#     number is considered as 1\n",
    "#     When the cosine similarity is greater, the movies are more similar..so, we sort it in\n",
    "#     descending order to get the top 'n'(our choice) movies\n",
    "    for i in dist[1:6]: # 0:5 is not taken because the cos_sim of a movie with itself is 1..so,\n",
    "#     the input movie will be ignored\n",
    "        print(bk_filtered.iloc[i[0]].title)\n",
    "#     getting the title of the top 5 movies that are more similar to the input movie"
   ]
  },
  {
   "cell_type": "markdown",
   "id": "6f5fab10",
   "metadata": {},
   "source": [
    "#### Getting the movie recommendations based on the content of 'Gilead' book"
   ]
  },
  {
   "cell_type": "code",
   "execution_count": 34,
   "id": "0c8f9cb1",
   "metadata": {},
   "outputs": [
    {
     "name": "stdout",
     "output_type": "stream",
     "text": [
      "Go Tell it on the Mountain\n",
      "The Last Eyewitness\n",
      "Children of the Alley\n",
      "John Adams\n",
      "The Chaneysville Incident\n"
     ]
    }
   ],
   "source": [
    "recommendation('Gilead')"
   ]
  },
  {
   "cell_type": "markdown",
   "id": "82a7e137",
   "metadata": {},
   "source": [
    "#### Getting the movie recommendations based on the content of 'The diaries of Franz Kafka' book"
   ]
  },
  {
   "cell_type": "code",
   "execution_count": 35,
   "id": "9a9a03c6",
   "metadata": {},
   "outputs": [
    {
     "name": "stdout",
     "output_type": "stream",
     "text": [
      "A twist of Lennon\n",
      "Winston S. Churchill\n",
      "Soldier, general of the army, president-elect, 1890-1952\n",
      "The Art of Maurice Sendak\n",
      "Tolkien\n"
     ]
    }
   ],
   "source": [
    "recommendation('The diaries of Franz Kafka')"
   ]
  },
  {
   "cell_type": "markdown",
   "id": "f56231df",
   "metadata": {},
   "source": [
    "#### Getting the movie recommendations based on the content of 'The Very Persistent Gappers of Frip' book"
   ]
  },
  {
   "cell_type": "code",
   "execution_count": 36,
   "id": "b5c9150c",
   "metadata": {},
   "outputs": [
    {
     "name": "stdout",
     "output_type": "stream",
     "text": [
      "Pippi Goes on Board\n",
      "That was Then, this is Now\n",
      "The World of Peter Rabbit\n",
      "The People of Sparks\n",
      "The Woman in the Dunes\n"
     ]
    }
   ],
   "source": [
    "recommendation('The Very Persistent Gappers of Frip')"
   ]
  },
  {
   "cell_type": "code",
   "execution_count": null,
   "id": "693c3666",
   "metadata": {},
   "outputs": [],
   "source": []
  }
 ],
 "metadata": {
  "kernelspec": {
   "display_name": "Python 3 (ipykernel)",
   "language": "python",
   "name": "python3"
  },
  "language_info": {
   "codemirror_mode": {
    "name": "ipython",
    "version": 3
   },
   "file_extension": ".py",
   "mimetype": "text/x-python",
   "name": "python",
   "nbconvert_exporter": "python",
   "pygments_lexer": "ipython3",
   "version": "3.11.3"
  }
 },
 "nbformat": 4,
 "nbformat_minor": 5
}
